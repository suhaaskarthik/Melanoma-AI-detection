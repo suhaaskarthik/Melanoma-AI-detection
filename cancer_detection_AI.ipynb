{
  "nbformat": 4,
  "nbformat_minor": 0,
  "metadata": {
    "colab": {
      "provenance": [],
      "gpuType": "T4",
      "mount_file_id": "1aZZlnlyfFXFU9YrTEdY0K_h6P8M8c5eu",
      "authorship_tag": "ABX9TyNtUOZRvSlbwigz27wPZZKG",
      "include_colab_link": true
    },
    "kernelspec": {
      "name": "python3",
      "display_name": "Python 3"
    },
    "language_info": {
      "name": "python"
    },
    "accelerator": "GPU"
  },
  "cells": [
    {
      "cell_type": "markdown",
      "metadata": {
        "id": "view-in-github",
        "colab_type": "text"
      },
      "source": [
        "<a href=\"https://colab.research.google.com/github/suhaaskarthik/Melanoma-AI-detection/blob/main/cancer_detection_AI.ipynb\" target=\"_parent\"><img src=\"https://colab.research.google.com/assets/colab-badge.svg\" alt=\"Open In Colab\"/></a>"
      ]
    },
    {
      "cell_type": "code",
      "execution_count": null,
      "metadata": {
        "id": "ywiP2BkP9wvw"
      },
      "outputs": [],
      "source": [
        "import zipfile\n",
        "import os\n",
        "zip_ref = zipfile.ZipFile('drive/MyDrive/melanoma-cancer.zip', 'r')\n",
        "zip_ref.extractall()\n",
        "zip_ref.close()"
      ]
    },
    {
      "cell_type": "code",
      "source": [
        "import tensorflow as tf\n",
        "train_data = tf.keras.preprocessing.image_dataset_from_directory(\n",
        "    'melanoma_cancer_dataset/train', label_mode = 'binary', image_size = (224,224), batch_size = 32\n",
        ")\n",
        "test_data = tf.keras.preprocessing.image_dataset_from_directory(\n",
        "    'melanoma_cancer_dataset/test', label_mode = 'binary', image_size = (224,224), batch_size = 32\n",
        ")"
      ],
      "metadata": {
        "colab": {
          "base_uri": "https://localhost:8080/"
        },
        "id": "TbYpkFTs_c35",
        "outputId": "98b18278-2256-4f64-f67f-2b4d0f776113"
      },
      "execution_count": null,
      "outputs": [
        {
          "output_type": "stream",
          "name": "stdout",
          "text": [
            "Found 9605 files belonging to 2 classes.\n",
            "Found 1000 files belonging to 2 classes.\n"
          ]
        }
      ]
    },
    {
      "cell_type": "markdown",
      "source": [
        "## By transfer learning and fine-tuning ResNet50"
      ],
      "metadata": {
        "id": "tjh2W_vDvw-o"
      }
    },
    {
      "cell_type": "code",
      "source": [
        "import tensorflow as tf\n",
        "from tensorflow.keras.layers.experimental import preprocessing\n",
        "import pandas as pd\n",
        "data_augmentation = tf.keras.Sequential([\n",
        "    preprocessing.RandomFlip('horizontal'),\n",
        "    preprocessing.RandomRotation(20),\n",
        "    preprocessing.RandomZoom(0.2),\n",
        "    preprocessing.RandomHeight(0.2),\n",
        "    preprocessing.RandomWidth(0.2)\n",
        "])\n",
        "base_model = tf.keras.applications.resnet50.ResNet50(include_top = False)\n",
        "base_model.trainable = False\n",
        "#input layer\n",
        "inputs = tf.keras.layers.Input(shape = (224,224,3), name = 'input_layer')\n",
        "x = data_augmentation(inputs)\n",
        "x = base_model(x, training =False)\n",
        "x = tf.keras.layers.GlobalAveragePooling2D(name = 'global_pool')(x)#used to return a two-dimensional output\n",
        "x = tf.keras.layers.Dropout(0.2)(x)\n",
        "x = tf.keras.layers.Dense(64, activation = 'relu')(x)\n",
        "x = tf.keras.layers.Dropout(0.2)(x)\n",
        "outputs = tf.keras.layers.Dense(1, activation = 'sigmoid')(x)\n",
        "model = tf.keras.Model(inputs,outputs)\n",
        "model.compile(loss = 'binary_crossentropy',\n",
        "               optimizer = 'Adam',\n",
        "              metrics = ['accuracy'])\n",
        "history = model.fit(train_data, epochs = 5, steps_per_epoch = len(train_data), validation_data =test_data, validation_steps =len(test_data))\n",
        "\n",
        "pd.DataFrame(history.history).plot()"
      ],
      "metadata": {
        "colab": {
          "base_uri": "https://localhost:8080/",
          "height": 676
        },
        "id": "KUiP98uM_Y2M",
        "outputId": "d2497c05-96e1-4b16-a50a-e2c95f5aee6f"
      },
      "execution_count": null,
      "outputs": [
        {
          "output_type": "stream",
          "name": "stdout",
          "text": [
            "Downloading data from https://storage.googleapis.com/tensorflow/keras-applications/resnet/resnet50_weights_tf_dim_ordering_tf_kernels_notop.h5\n",
            "94765736/94765736 [==============================] - 0s 0us/step\n",
            "Epoch 1/5\n",
            "301/301 [==============================] - 218s 683ms/step - loss: 0.3436 - accuracy: 0.8645 - val_loss: 0.3595 - val_accuracy: 0.9050\n",
            "Epoch 2/5\n",
            "301/301 [==============================] - 124s 412ms/step - loss: 0.2770 - accuracy: 0.8891 - val_loss: 0.3029 - val_accuracy: 0.9130\n",
            "Epoch 3/5\n",
            "301/301 [==============================] - 94s 310ms/step - loss: 0.2631 - accuracy: 0.8965 - val_loss: 0.2925 - val_accuracy: 0.9170\n",
            "Epoch 4/5\n",
            "301/301 [==============================] - 82s 272ms/step - loss: 0.2555 - accuracy: 0.8979 - val_loss: 0.2860 - val_accuracy: 0.9070\n",
            "Epoch 5/5\n",
            "301/301 [==============================] - 72s 237ms/step - loss: 0.2383 - accuracy: 0.9046 - val_loss: 0.3140 - val_accuracy: 0.9130\n"
          ]
        },
        {
          "output_type": "execute_result",
          "data": {
            "text/plain": [
              "<Axes: >"
            ]
          },
          "metadata": {},
          "execution_count": 5
        },
        {
          "output_type": "display_data",
          "data": {
            "text/plain": [
              "<Figure size 640x480 with 1 Axes>"
            ],
            "image/png": "[encoded data removed]"
          },
          "metadata": {}
        }
      ]
    },
    {
      "cell_type": "code",
      "source": [
        "base_model.trainable=True\n",
        "for layer in base_model.layers[:-10]:\n",
        "  layer.trainable=False\n",
        "model.compile(\n",
        "    optimizer = tf.keras.optimizers.Adam(0.0001),\n",
        "    loss = 'binary_crossentropy',\n",
        "    metrics = ['accuracy']\n",
        ")\n",
        "history3 = model.fit(train_data, epochs = 10, steps_per_epoch = len(train_data), validation_data =test_data, validation_steps =len(test_data),initial_epoch = history.epoch[-1],)\n",
        "model.save('drive/MyDrive/melanoma')"
      ],
      "metadata": {
        "colab": {
          "base_uri": "https://localhost:8080/"
        },
        "id": "pLfGIEkXCv9N",
        "outputId": "dd063945-da13-433e-a8c1-f9720d41f180"
      },
      "execution_count": null,
      "outputs": [
        {
          "output_type": "stream",
          "name": "stdout",
          "text": [
            "Epoch 5/10\n",
            "301/301 [==============================] - 86s 257ms/step - loss: 0.2341 - accuracy: 0.9039 - val_loss: 0.2844 - val_accuracy: 0.9120\n",
            "Epoch 6/10\n",
            "301/301 [==============================] - 68s 226ms/step - loss: 0.2166 - accuracy: 0.9137 - val_loss: 0.2790 - val_accuracy: 0.9130\n",
            "Epoch 7/10\n",
            "301/301 [==============================] - 70s 230ms/step - loss: 0.2157 - accuracy: 0.9128 - val_loss: 0.2596 - val_accuracy: 0.9160\n",
            "Epoch 8/10\n",
            "301/301 [==============================] - 66s 218ms/step - loss: 0.1990 - accuracy: 0.9181 - val_loss: 0.2608 - val_accuracy: 0.9150\n",
            "Epoch 9/10\n",
            "301/301 [==============================] - 65s 216ms/step - loss: 0.1946 - accuracy: 0.9234 - val_loss: 0.2595 - val_accuracy: 0.9130\n",
            "Epoch 10/10\n",
            "301/301 [==============================] - 64s 213ms/step - loss: 0.1852 - accuracy: 0.9261 - val_loss: 0.2455 - val_accuracy: 0.9200\n"
          ]
        }
      ]
    },
    {
      "cell_type": "markdown",
      "source": [
        "## By building a custom CNN"
      ],
      "metadata": {
        "id": "DehLq63vv79M"
      }
    },
    {
      "cell_type": "code",
      "source": [
        "import tensorflow as tf\n",
        "from tensorflow.keras.preprocessing.image import ImageDataGenerator\n",
        "traindatagen_augmented = ImageDataGenerator(\n",
        "    rescale=1/255.,\n",
        "    #unhash the stuff you want data augmentation\n",
        "    rotation_range = 0.2,\n",
        "    # shear_range = 0.2,\n",
        "    zoom_range = 0.2,\n",
        "    width_shift_range = 0.2,\n",
        "    # height_shift_range = 0.2,\n",
        "    # horizontal_flip = True\n",
        ")\n",
        "testdatagen_augmented = ImageDataGenerator(\n",
        "    rescale = 1/255.\n",
        ")\n",
        "train_data_augmented = traindatagen_augmented.flow_from_directory(\n",
        "    directory = 'melanoma_cancer_dataset/train',\n",
        "    target_size = (224,224),\n",
        "    class_mode = 'binary',\n",
        "    batch_size = 32,\n",
        "    shuffle=True\n",
        ")\n",
        "test_data_augmented = testdatagen_augmented.flow_from_directory(\n",
        "    directory = 'melanoma_cancer_dataset/test',\n",
        "    target_size = (224,224),\n",
        "    class_mode = 'binary',\n",
        "    batch_size = 32,\n",
        "    shuffle=True\n",
        ")"
      ],
      "metadata": {
        "colab": {
          "base_uri": "https://localhost:8080/"
        },
        "id": "UGFiLc89YSRe",
        "outputId": "e6baa6a4-8790-44e5-e44b-21a08cb7cf8e"
      },
      "execution_count": null,
      "outputs": [
        {
          "output_type": "stream",
          "name": "stdout",
          "text": [
            "Found 9605 images belonging to 2 classes.\n",
            "Found 1000 images belonging to 2 classes.\n"
          ]
        }
      ]
    },
    {
      "cell_type": "code",
      "source": [
        "import tensorflow as tf\n",
        "from tensorflow.keras import Sequential\n",
        "from tensorflow.keras.layers import Conv2D, Dense, MaxPool2D, Flatten\n",
        "import pandas as pd\n",
        "model = tf.keras.models.Sequential([\n",
        "    tf.keras.layers.Conv2D(32, (3,3), activation='relu', input_shape=(224, 224, 3)),\n",
        "    tf.keras.layers.MaxPooling2D(2, 2),\n",
        "    tf.keras.layers.Conv2D(64, (3,3), activation='relu'),\n",
        "    tf.keras.layers.MaxPooling2D(2,2),\n",
        "    tf.keras.layers.Conv2D(128, (3,3), activation='relu'),\n",
        "    tf.keras.layers.MaxPooling2D(2,2),\n",
        "    tf.keras.layers.Conv2D(128, (3,3), activation='relu'),\n",
        "    tf.keras.layers.MaxPooling2D(2,2),\n",
        "    tf.keras.layers.Flatten(),\n",
        "    tf.keras.layers.Dense(512, activation='relu'),\n",
        "    tf.keras.layers.Dense(1, activation='sigmoid')\n",
        "])"
      ],
      "metadata": {
        "id": "FlJLYhjCXyYu"
      },
      "execution_count": null,
      "outputs": []
    },
    {
      "cell_type": "code",
      "source": [
        "model.compile(loss = 'binary_crossentropy',\n",
        "               optimizer = 'Adam',\n",
        "              metrics = ['accuracy'])\n",
        "model.summary()\n",
        "\n",
        "#the below model is only fitted with 20% of the data, just to see how it generally performs, so change it when you want it trained on\n",
        "history = model.fit(train_data_augmented,steps_per_epoch = len(train_data_augmented), validation_data = test_data_augmented, validation_steps = len(test_data_augmented), epochs=10, callbacks = [tf.keras.callbacks.ModelCheckpoint('drive/MyDrive/melanoma2', monitor = 'val_loss', save_best_weights = True)])"
      ],
      "metadata": {
        "colab": {
          "base_uri": "https://localhost:8080/"
        },
        "id": "Z9g_4Hv9X2IW",
        "outputId": "ef1b264c-653e-4284-d9a9-267208857b60"
      },
      "execution_count": null,
      "outputs": [
        {
          "output_type": "stream",
          "name": "stdout",
          "text": [
            "Model: \"sequential\"\n",
            "_________________________________________________________________\n",
            " Layer (type)                Output Shape              Param #   \n",
            "=================================================================\n",
            " conv2d (Conv2D)             (None, 222, 222, 32)      896       \n",
            "                                                                 \n",
            " max_pooling2d (MaxPooling2  (None, 111, 111, 32)      0         \n",
            " D)                                                              \n",
            "                                                                 \n",
            " conv2d_1 (Conv2D)           (None, 109, 109, 64)      18496     \n",
            "                                                                 \n",
            " max_pooling2d_1 (MaxPoolin  (None, 54, 54, 64)        0         \n",
            " g2D)                                                            \n",
            "                                                                 \n",
            " conv2d_2 (Conv2D)           (None, 52, 52, 128)       73856     \n",
            "                                                                 \n",
            " max_pooling2d_2 (MaxPoolin  (None, 26, 26, 128)       0         \n",
            " g2D)                                                            \n",
            "                                                                 \n",
            " conv2d_3 (Conv2D)           (None, 24, 24, 128)       147584    \n",
            "                                                                 \n",
            " max_pooling2d_3 (MaxPoolin  (None, 12, 12, 128)       0         \n",
            " g2D)                                                            \n",
            "                                                                 \n",
            " flatten (Flatten)           (None, 18432)             0         \n",
            "                                                                 \n",
            " dense (Dense)               (None, 512)               9437696   \n",
            "                                                                 \n",
            " dense_1 (Dense)             (None, 1)                 513       \n",
            "                                                                 \n",
            "=================================================================\n",
            "Total params: 9679041 (36.92 MB)\n",
            "Trainable params: 9679041 (36.92 MB)\n",
            "Non-trainable params: 0 (0.00 Byte)\n",
            "_________________________________________________________________\n",
            "Epoch 1/10\n",
            "301/301 [==============================] - 147s 446ms/step - loss: 0.4957 - accuracy: 0.7523 - val_loss: 0.3359 - val_accuracy: 0.8330\n",
            "Epoch 2/10\n",
            "301/301 [==============================] - 128s 425ms/step - loss: 0.3452 - accuracy: 0.8530 - val_loss: 0.3286 - val_accuracy: 0.8760\n",
            "Epoch 3/10\n",
            "301/301 [==============================] - 128s 424ms/step - loss: 0.3172 - accuracy: 0.8649 - val_loss: 0.3017 - val_accuracy: 0.8740\n",
            "Epoch 4/10\n",
            "301/301 [==============================] - 126s 419ms/step - loss: 0.3003 - accuracy: 0.8754 - val_loss: 0.2660 - val_accuracy: 0.8880\n",
            "Epoch 5/10\n",
            "301/301 [==============================] - 123s 408ms/step - loss: 0.2828 - accuracy: 0.8794 - val_loss: 0.2520 - val_accuracy: 0.8940\n",
            "Epoch 6/10\n",
            "301/301 [==============================] - 124s 412ms/step - loss: 0.2696 - accuracy: 0.8863 - val_loss: 0.2497 - val_accuracy: 0.8940\n",
            "Epoch 7/10\n",
            "301/301 [==============================] - 125s 416ms/step - loss: 0.2689 - accuracy: 0.8870 - val_loss: 0.2807 - val_accuracy: 0.8770\n",
            "Epoch 8/10\n",
            "301/301 [==============================] - 124s 412ms/step - loss: 0.2558 - accuracy: 0.8929 - val_loss: 0.2276 - val_accuracy: 0.8970\n",
            "Epoch 9/10\n",
            "301/301 [==============================] - 124s 411ms/step - loss: 0.2468 - accuracy: 0.8959 - val_loss: 0.2405 - val_accuracy: 0.9060\n",
            "Epoch 10/10\n",
            "301/301 [==============================] - 122s 406ms/step - loss: 0.2381 - accuracy: 0.9015 - val_loss: 0.2308 - val_accuracy: 0.9120\n"
          ]
        }
      ]
    },
    {
      "cell_type": "code",
      "source": [
        "history3 = model.fit(train_data_augmented, epochs = 15, steps_per_epoch = len(train_data_augmented), validation_data =test_data_augmented, validation_steps =len(test_data_augmented),initial_epoch = history.epoch[-1],)"
      ],
      "metadata": {
        "colab": {
          "base_uri": "https://localhost:8080/"
        },
        "id": "5mqUCS66eMxA",
        "outputId": "5a843980-b520-46eb-aa5c-d0e74c3cd11f"
      },
      "execution_count": null,
      "outputs": [
        {
          "output_type": "stream",
          "name": "stdout",
          "text": [
            "Epoch 10/15\n",
            "301/301 [==============================] - 131s 436ms/step - loss: 0.2341 - accuracy: 0.9038 - val_loss: 0.2253 - val_accuracy: 0.9010\n",
            "Epoch 11/15\n",
            "301/301 [==============================] - 127s 423ms/step - loss: 0.2264 - accuracy: 0.9089 - val_loss: 0.2132 - val_accuracy: 0.9110\n",
            "Epoch 12/15\n",
            "301/301 [==============================] - 127s 421ms/step - loss: 0.2259 - accuracy: 0.9056 - val_loss: 0.2316 - val_accuracy: 0.8940\n",
            "Epoch 13/15\n",
            "301/301 [==============================] - 126s 419ms/step - loss: 0.2263 - accuracy: 0.9070 - val_loss: 0.2242 - val_accuracy: 0.8980\n",
            "Epoch 14/15\n",
            "301/301 [==============================] - 122s 405ms/step - loss: 0.2170 - accuracy: 0.9114 - val_loss: 0.2342 - val_accuracy: 0.9050\n",
            "Epoch 15/15\n",
            "301/301 [==============================] - 126s 418ms/step - loss: 0.2143 - accuracy: 0.9124 - val_loss: 0.2240 - val_accuracy: 0.9160\n"
          ]
        }
      ]
    },
    {
      "cell_type": "code",
      "source": [
        "model.save('drive/MyDrive/melanoma3')"
      ],
      "metadata": {
        "id": "j4HVaCQAllkc"
      },
      "execution_count": null,
      "outputs": []
    }
  ]
}